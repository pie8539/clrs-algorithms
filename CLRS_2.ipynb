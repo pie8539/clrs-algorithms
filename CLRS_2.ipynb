{
  "cells": [
    {
      "cell_type": "markdown",
      "metadata": {
        "id": "view-in-github",
        "colab_type": "text"
      },
      "source": [
        "<a href=\"https://colab.research.google.com/github/pie8539/clrs-algorithms/blob/main/CLRS_2.ipynb\" target=\"_parent\"><img src=\"https://colab.research.google.com/assets/colab-badge.svg\" alt=\"Open In Colab\"/></a>"
      ]
    },
    {
      "cell_type": "markdown",
      "metadata": {
        "id": "TbQ-rdNN2PFs"
      },
      "source": [
        "## **Problem 1: Sorting**\n",
        "\n",
        "**Input**: A sequence of $n$ numbers $(a_1,a_2,\\ldots,a_n)$.\n",
        "\n",
        "**Output**: A permutation $(a_1',a_2',\\ldots,a_n')$ of the input sequence such that $a_i'$ is increasing."
      ]
    },
    {
      "cell_type": "code",
      "execution_count": null,
      "metadata": {
        "id": "XSOoPnxH3w1o"
      },
      "outputs": [],
      "source": [
        "# insertion sort\n",
        "\n",
        "def insertion_sort(A):\n",
        "  for j in range(1,len(A)):\n",
        "    # iterates from 1 (second element) to lenA-1 (last element), inclusive\n",
        "\n",
        "    key = A[j] # inserts A[j] into sorted list A[0..j-1]\n",
        "    i = j-1\n",
        "\n",
        "    while i >= 0 and A[i] > key:\n",
        "      A[i+1] = A[i]\n",
        "      i = i-1\n",
        "\n",
        "    A[i+1]=key\n",
        "\n",
        "  return A\n",
        "\n",
        "A = list(map(int, input().split(\",\"))) # takes inputs like 1,2,3 and makes the list [1,2,3]\n",
        "print(insertion_sort(A))"
      ]
    },
    {
      "cell_type": "markdown",
      "metadata": {
        "id": "wZxJDPaTJH6U"
      },
      "source": [
        "# **Exercises 1**"
      ]
    },
    {
      "cell_type": "code",
      "execution_count": null,
      "metadata": {
        "colab": {
          "base_uri": "https://localhost:8080/"
        },
        "id": "CiJy-ISKJPs3",
        "outputId": "a1986c9a-e269-45d5-d6e6-93161e0a78ac"
      },
      "outputs": [
        {
          "name": "stdout",
          "output_type": "stream",
          "text": [
            "[26, 31, 41, 41, 58, 59]\n"
          ]
        }
      ],
      "source": [
        "# 2.1-1\n",
        "\n",
        "print(insertion_sort([31, 41, 59, 26, 41, 58]))"
      ]
    },
    {
      "cell_type": "code",
      "execution_count": null,
      "metadata": {
        "id": "xAxIw4OaKNE5"
      },
      "outputs": [],
      "source": [
        "# 2.1-2\n",
        "\n",
        "# Just write A[i] < key in place of A[i] > key"
      ]
    },
    {
      "cell_type": "code",
      "execution_count": null,
      "metadata": {
        "id": "JeDjMXBbKlvb"
      },
      "outputs": [],
      "source": [
        "# 2.1-3\n",
        "\n",
        "def linear_search(A, v):\n",
        "  i = len(A)-1\n",
        "  while i >= 0 and A[i] != v:\n",
        "    i=i-1\n",
        "  if i < 0:\n",
        "    print(\"nil\")\n",
        "  else:\n",
        "    return i+1"
      ]
    },
    {
      "cell_type": "code",
      "execution_count": null,
      "metadata": {
        "id": "7271Kcx3NUwd"
      },
      "outputs": [],
      "source": [
        "# 2.1-4 later plzzz"
      ]
    },
    {
      "cell_type": "markdown",
      "metadata": {
        "id": "tGKifWthzwVx"
      },
      "source": [
        "# **Exercises 2**"
      ]
    },
    {
      "cell_type": "code",
      "execution_count": null,
      "metadata": {
        "id": "iOUiCzqGz1aA"
      },
      "outputs": [],
      "source": [
        "#2.2-1 O(n^3)"
      ]
    },
    {
      "cell_type": "code",
      "execution_count": null,
      "metadata": {
        "id": "fdVz-tk5z5y1"
      },
      "outputs": [],
      "source": [
        "#2.2-2\n",
        "\n",
        "def selection_sort(A):\n",
        "\n",
        "  sorted_A = []\n",
        "\n",
        "  while len(A) > 0:\n",
        "    key = min(A)            # getting the smallest number\n",
        "    sorted_A.append(key)        # putting into sorted list\n",
        "    A.remove(key)             # removing from original list\n",
        "\n",
        "  return sorted_A\n",
        "\n",
        "selection_sort([6,4,12,4,9])\n"
      ]
    },
    {
      "cell_type": "code",
      "execution_count": null,
      "metadata": {
        "id": "2swZ4pGh0Euz"
      },
      "outputs": [],
      "source": [
        "# 2.2-4\n",
        "# hard-code the best case"
      ]
    },
    {
      "cell_type": "markdown",
      "metadata": {
        "id": "LWL6xLu3l41f"
      },
      "source": [
        "# **Merge Sort**\n",
        "\n",
        "Here we implement the merge sort for Problem 1.\n",
        "\n",
        "Merge Sort is defined recursively. When the two parts of a list is sorted recursively by merge sort, we use the merge function to produce the combined sorted list."
      ]
    },
    {
      "cell_type": "code",
      "execution_count": null,
      "metadata": {
        "colab": {
          "background_save": true,
          "base_uri": "https://localhost:8080/",
          "height": 419
        },
        "id": "KaTM5TCnmTH_",
        "outputId": "90e083d0-767f-4ee1-bdad-72f7690e7e64"
      },
      "outputs": [
        {
          "data": {
            "text/plain": [
              "[1, 2, 2, 3, 4, 5, 6, 7]"
            ]
          },
          "execution_count": 4,
          "metadata": {},
          "output_type": "execute_result"
        }
      ],
      "source": [
        "def merge(A, p, q, r):\n",
        "    # A[p..q] and A[(q+1)..r] are supposed to be sorted\n",
        "    # we want to merge these to get a sorted A[p..r]\n",
        "\n",
        "    n1 = q-p # 3\n",
        "    n2 = r-q-1 # 3\n",
        "\n",
        "    L = [ ]\n",
        "    R = [ ]\n",
        "\n",
        "    for i in range(0, n1+1):\n",
        "        L.append(A[p+i]) # this will be the left sorted list A[p..q]\n",
        "    for i in range(0, n2+1):\n",
        "        R.append(A[q+1+i]) # this will be the right sorted list A[(q+1)..r]\n",
        "\n",
        "    L.append(max(L[n1], R[n2])+1)\n",
        "    R.append(max(L[n1], R[n2])+1) # sentinel values\n",
        "\n",
        "    i = 0\n",
        "    j = 0\n",
        "    for k in range(p, r+1):\n",
        "        if L[i] <= R[j]:\n",
        "            A[k] = L[i]\n",
        "            i = i+1\n",
        "        else:\n",
        "            A[k] = R[j]\n",
        "            j = j+1\n",
        "\n",
        "    return A\n",
        "\n",
        "merge([2,4,5,7,1,2,3,6], 0, 3, 7)"
      ]
    },
    {
      "cell_type": "code",
      "source": [
        "\n",
        "import math\n",
        "\n",
        "def mergeSort(A, p, r):\n",
        "    if p < r: # base case for recursion\n",
        "        q = math.floor((p+r)/2)\n",
        "        mergeSort(A, p, q) # applies the function recursively\n",
        "        mergeSort(A, q+1, r)\n",
        "        merge(A, p, q, r)\n",
        "    return A\n",
        "\n",
        "mergeSort([12,5,18,1,19,26,11], 0, 6) # example"
      ],
      "metadata": {
        "colab": {
          "base_uri": "https://localhost:8080/"
        },
        "id": "xBOTJNh5wDji",
        "outputId": "5ba65005-4a7f-4337-acc7-c88acdaa6802"
      },
      "execution_count": null,
      "outputs": [
        {
          "output_type": "execute_result",
          "data": {
            "text/plain": [
              "[1, 5, 11, 12, 18, 19, 26]"
            ]
          },
          "metadata": {},
          "execution_count": 15
        }
      ]
    },
    {
      "cell_type": "markdown",
      "source": [
        "# **Exercises 3**"
      ],
      "metadata": {
        "id": "j08k-Bbp1rXY"
      }
    },
    {
      "cell_type": "code",
      "source": [
        "# 2.3-1\n",
        "\n",
        "mergeSort([3,41,52,26,38,57,9,49],0,7)\n",
        "\n",
        "# as for the diagram, that's easy"
      ],
      "metadata": {
        "colab": {
          "base_uri": "https://localhost:8080/"
        },
        "id": "k-S0ZOaU15aZ",
        "outputId": "38fdea95-0f67-47b4-9f00-629653392079"
      },
      "execution_count": null,
      "outputs": [
        {
          "output_type": "execute_result",
          "data": {
            "text/plain": [
              "[3, 9, 26, 38, 41, 49, 52, 57]"
            ]
          },
          "metadata": {},
          "execution_count": 16
        }
      ]
    },
    {
      "cell_type": "code",
      "source": [
        "# 2.3-2\n",
        "\n",
        "# use a couple of while loops to replace sentinels"
      ],
      "metadata": {
        "id": "lOURtrPf2JPg"
      },
      "execution_count": null,
      "outputs": []
    },
    {
      "cell_type": "markdown",
      "source": [
        "2.3-3\n",
        "\n",
        "CLRS has already done it lol"
      ],
      "metadata": {
        "id": "H3MKJb363A8c"
      }
    },
    {
      "cell_type": "markdown",
      "source": [
        "2.3-4\n",
        "\n",
        "Let's say sorting A[1..n] takes time T(n). Then sorting A[1..(n-1)] takes time T(n-1). Moreover, inserting A[n] take time O(n). So,\n",
        "\n",
        "$$T(n)=T(n-1)+O(n).$$"
      ],
      "metadata": {
        "id": "InhsR-q03HxC"
      }
    },
    {
      "cell_type": "code",
      "source": [
        "\n",
        "#2.3-5\n",
        "\n",
        "def binarySearch(A, p, r, v):\n",
        "    if p > r:\n",
        "        return \"nil\"\n",
        "\n",
        "    q = math.floor((p+r)/2)\n",
        "    if v == A[q]:\n",
        "        return q+1\n",
        "    elif v < A[q]:\n",
        "        return binarySearch(A, p, q-1, v)\n",
        "    else:\n",
        "        return binarySearch(A, q+1, r, v)\n",
        "\n",
        "binarySearch([1, 5, 11, 12, 18, 19, 26], 0, 6, 11)"
      ],
      "metadata": {
        "id": "YK_lag4GCo_j",
        "colab": {
          "base_uri": "https://localhost:8080/"
        },
        "outputId": "a7592a53-a6e3-4d7a-c2f5-455b4b057fd6"
      },
      "execution_count": null,
      "outputs": [
        {
          "output_type": "execute_result",
          "data": {
            "text/plain": [
              "3"
            ]
          },
          "metadata": {},
          "execution_count": 29
        }
      ]
    },
    {
      "cell_type": "markdown",
      "source": [
        "2.3-6\n",
        "\n",
        "No, it's still $O(n^2)$."
      ],
      "metadata": {
        "id": "Ym6AOogybHlU"
      }
    },
    {
      "cell_type": "markdown",
      "source": [
        "2.3-7\n",
        "\n",
        "I couldn't do it. But lesson learned: big-Os add up.\n",
        "\n",
        "The idea is to merge sort+binary search (with a loop). You get $O(n \\lg n)+O(n \\lg n)=O(n \\lg n)$."
      ],
      "metadata": {
        "id": "hKrS2sMUgosW"
      }
    },
    {
      "cell_type": "markdown",
      "source": [
        "# **Problems**"
      ],
      "metadata": {
        "id": "dPXvmWGxegQG"
      }
    },
    {
      "cell_type": "markdown",
      "source": [
        "**2/3**:\n",
        "\n",
        "(a) It's $\\Theta(n)$.\n",
        "\n",
        "(b) The naive approach would be:\n",
        "```\n",
        "p = 0\n",
        "for i = 0 to n\n",
        "  p = a_ix^i +p\n",
        "```\n",
        "Timer complexity for the power function is $Θ(\\lg n)$. So, for this algorithm the complexity is $$\\Theta(\\lg n)+\\Theta(\\lg(n-1))+\\cdots+\\Theta(\\lg 2)=\\Theta(\\lg n!)=\\Theta(n\\lg n),$$ by Stirling's approximation. Thus, Horner's rule is better for large $n$.\n",
        "\n",
        "(c) We have Horner's Rule:\n",
        "\n",
        "```\n",
        "y = 0\n",
        "for i = n downto 0\n",
        "  y = a_i+x*y\n",
        "```\n",
        "\n",
        "(d) **Initialization:** Prior to the first iteration of the \"for\" loop, we have $i=n$ and $y=0$. By definition, $$\\sum_{k=0}^{n-(n+1)} a_{k+n+1}x^k=0,$$ and so we are clear.\n",
        "\n",
        "**Maintenance:** Suppose $i=m$ and $y=\\sum_{k=0}^{n-(m+1)} a_{k+m+1}x^k=0$. After an iteration, $i=m-1$ and $$y=a_{m-1}+x\\cdot \\sum_{k=0}^{n-(m+1)} a_{k+m+1}x^k=\\sum_{k=0}^{n-m} a_{k+m}x^k$$ which maintains the loop invariant.\n",
        "\n",
        "**Termination:** At termination, $i=-1$ and $y=\\sum_{k=0}^{n-(-1+1)} a_{k-1+1}x^k=\\sum{k=0}^n a_k x^k$, as required.\n",
        "\n",
        "(d) Thanks to the loop invariant we can say that the algorithm works.\n"
      ],
      "metadata": {
        "id": "J3ARC9P4e1cy"
      }
    }
  ],
  "metadata": {
    "colab": {
      "provenance": [],
      "authorship_tag": "ABX9TyNcg5GdSo6DCuQjtStILv5O",
      "include_colab_link": true
    },
    "kernelspec": {
      "display_name": "Python 3",
      "name": "python3"
    },
    "language_info": {
      "name": "python"
    }
  },
  "nbformat": 4,
  "nbformat_minor": 0
}