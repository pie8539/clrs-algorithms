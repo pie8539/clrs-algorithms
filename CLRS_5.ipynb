{
  "nbformat": 4,
  "nbformat_minor": 0,
  "metadata": {
    "colab": {
      "provenance": [],
      "authorship_tag": "ABX9TyP0SG9k+ODs8iiY/CBdpyx6",
      "include_colab_link": true
    },
    "kernelspec": {
      "name": "python3",
      "display_name": "Python 3"
    },
    "language_info": {
      "name": "python"
    }
  },
  "cells": [
    {
      "cell_type": "markdown",
      "metadata": {
        "id": "view-in-github",
        "colab_type": "text"
      },
      "source": [
        "<a href=\"https://colab.research.google.com/github/pie8539/clrs-algorithms/blob/main/CLRS_5.ipynb\" target=\"_parent\"><img src=\"https://colab.research.google.com/assets/colab-badge.svg\" alt=\"Open In Colab\"/></a>"
      ]
    },
    {
      "cell_type": "markdown",
      "source": [
        "# **Exercises 1**"
      ],
      "metadata": {
        "id": "jdAbt6MxwoqB"
      }
    },
    {
      "cell_type": "code",
      "source": [
        "# 5.1-1"
      ],
      "metadata": {
        "id": "LFvZx1gLxQnO"
      },
      "execution_count": null,
      "outputs": []
    },
    {
      "cell_type": "code",
      "source": [
        "# 5.1-2"
      ],
      "metadata": {
        "id": "Lr95El_rxQci"
      },
      "execution_count": null,
      "outputs": []
    },
    {
      "cell_type": "code",
      "execution_count": null,
      "metadata": {
        "id": "hyFBaob3_rf1"
      },
      "outputs": [],
      "source": [
        "# 5.1-3\n",
        "\n",
        "import random\n",
        "\n",
        "def bias_rng():\n",
        "    i = random.randint(1,10)\n",
        "    if i == 8 or i == 9 or i == 10:\n",
        "        return 0\n",
        "    else:\n",
        "        return 1\n",
        "\n",
        "def rng():\n",
        "    i = bias_rng()\n",
        "    j = bias_rng()\n",
        "    if i == 1 and j == 0:\n",
        "        return 1\n",
        "    if i == 0 and j == 1:\n",
        "        return 0\n",
        "    else:\n",
        "        return rng()\n",
        "\n",
        "print(rng())\n",
        "\n",
        "\n",
        "# experiment\n",
        "\n",
        "s = 0\n",
        "\n",
        "for i in range(10000):\n",
        "    x = rng()\n",
        "    if x == 0:\n",
        "        s = s+1\n",
        "\n",
        "print(s/10000)"
      ]
    },
    {
      "cell_type": "markdown",
      "source": [
        "# **Exercises 2**"
      ],
      "metadata": {
        "id": "MxXliJgiS7P-"
      }
    },
    {
      "cell_type": "code",
      "source": [],
      "metadata": {
        "id": "0ZtEAYH4TAXu"
      },
      "execution_count": null,
      "outputs": []
    }
  ]
}