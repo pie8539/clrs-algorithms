{
  "nbformat": 4,
  "nbformat_minor": 0,
  "metadata": {
    "colab": {
      "provenance": [],
      "authorship_tag": "ABX9TyP+gazTUAZPSYlpKTRqYKvX",
      "include_colab_link": true
    },
    "kernelspec": {
      "name": "python3",
      "display_name": "Python 3"
    },
    "language_info": {
      "name": "python"
    }
  },
  "cells": [
    {
      "cell_type": "markdown",
      "metadata": {
        "id": "view-in-github",
        "colab_type": "text"
      },
      "source": [
        "<a href=\"https://colab.research.google.com/github/pie8539/clrs-algorithms/blob/main/CLRS_5.ipynb\" target=\"_parent\"><img src=\"https://colab.research.google.com/assets/colab-badge.svg\" alt=\"Open In Colab\"/></a>"
      ]
    },
    {
      "cell_type": "markdown",
      "source": [
        "# **Exercises 1**"
      ],
      "metadata": {
        "id": "jdAbt6MxwoqB"
      }
    },
    {
      "cell_type": "code",
      "source": [
        "# 5.1-1 easy"
      ],
      "metadata": {
        "id": "LFvZx1gLxQnO"
      },
      "execution_count": null,
      "outputs": []
    },
    {
      "cell_type": "code",
      "source": [
        "# 5.1-2 use binary"
      ],
      "metadata": {
        "id": "Lr95El_rxQci"
      },
      "execution_count": null,
      "outputs": []
    },
    {
      "cell_type": "code",
      "execution_count": null,
      "metadata": {
        "id": "hyFBaob3_rf1"
      },
      "outputs": [],
      "source": [
        "# 5.1-3\n",
        "\n",
        "import random\n",
        "\n",
        "def bias_rng():\n",
        "    i = random.randint(1,10)\n",
        "    if i == 8 or i == 9 or i == 10:\n",
        "        return 0\n",
        "    else:\n",
        "        return 1\n",
        "\n",
        "def rng():\n",
        "    i = bias_rng()\n",
        "    j = bias_rng()\n",
        "    if i == 1 and j == 0:\n",
        "        return 1\n",
        "    if i == 0 and j == 1:\n",
        "        return 0\n",
        "    else:\n",
        "        return rng()\n",
        "\n",
        "print(rng())\n",
        "\n",
        "\n",
        "# experiment\n",
        "\n",
        "s = 0\n",
        "\n",
        "for i in range(10000):\n",
        "    x = rng()\n",
        "    if x == 0:\n",
        "        s = s+1\n",
        "\n",
        "print(s/10000)"
      ]
    },
    {
      "cell_type": "markdown",
      "source": [
        "# **Exercises 2**\n",
        "\n",
        "5.2-1: Exactly $1$ time means that $a_1$ is the best of all of them. The probability of this is $1/n$. Exactly $n$ time happens when $$a_n>a_{n-1}>\\cdots>a_2>a_1.$$ This has a probability $1/n!$.\n",
        "\n",
        "5.2-2: Let us count the number of permutations of $(1,2,\\ldots,n)$ of the form $(k,\\ldots,1,\\ldots)$ where $k>1$ and between $1$ and $k$ only numbers greater than $k$ may be placed. Suppose we choose $i$ of the $n-k$ numbers greater than $k$ between $1$ and $k$. Such permutations are $\\frac{(n-k)!}{(n-k-i)!}$ and there are $(n-i-2)!$ permutations of the rest numbers. So, the number of total permutations is $$\\frac{(n-k)!}{(n-k-i)!} \\cdot (n-i-2)!.$$ To count the total number of permutations over all $i=0,1,\\dots,n-k$ and $k=2,3,\\dots,n$, we get $$\\sum_{k=2}^n \\sum_{i=0}^{n-k} \\frac{(n-k)!(n-i-2)!}{(n-k-i)!}.$$ Swapping the sums $$\\sum_{k=2}^n \\sum_{i=0}^{n-k} \\frac{(n-k)!(n-i-2)!}{(n-k-i)!}=\\sum_{i=0}^{n-2} \\sum_{k=2}^{n-i} \\frac{(n-k)!(n-i-2)!}{(n-k-i)!}.$$ I claim that $$\\sum_{k=2}^{n-i} \\frac{(n-k)!(n-i-2)!}{(n-k-i)!}=\\frac{(n-1)!}{i+1} \\qquad (1)$$ Define $$f(x)=(n-i-2)!\\sum_{k=2}^{n-i} x^{n-k}=(n-i-2)!\\frac{x^{n-1}-x^i}{x-1}.$$ Note that the $i$th derivate of $f(x)$ at $x=1$ is the sum in $(1)$. So we need to calculate $f^{(i)}(1)$. This is the coefficient of $(x-1)^i$ in the Taylor series of $f(x)$ around $x=1$ (multiplied by $i!$). Now $$\\frac{(1+x)^{n-1}-(1+x)^i}{x}=\\frac{(1+x)^{n-i-1}-1}{(1+x)-1}(1+x)^i$$ $$=\\sum_{k=0}^{n-i-2} (1+x)^{k+i}=\\sum_{k=0}^{n-i-2} \\sum_{m=0}^{k+i} \\binom{k+i}{m} x^m.$$ The coefficient of $x^i$ here is $\\sum_{k=i}^{n-2} \\binom{k}{i}.$ We can prove by induction that $$\\sum_{k=i}^m \\binom{k}{i}=\\binom{m+1}i \\frac{m+1-i}{i+1}.$$ Thus our final answer is $$\\binom{n-1}i \\frac{n-i-1}{i+1} \\cdot i! \\cdot (n-i-2)!=\\frac{(n-1)!}{i+1}.$$ And so, $$\\sum_{k=2}^n \\sum_{i=0}^{n-k} \\frac{(n-k)!(n-i-2)!}{(n-k-i)!}=(n-1)! \\sum_{k=1}^{n-1} \\frac 1k.$$ Thus, $$P(\\text{hire exactly 2 people})=\\frac{(n-1)! \\sum_{k=1}^{n-1} \\frac 1k}{n!}=\\frac 1n \\sum_{k=1}^{n-1} \\frac 1k.$$\n",
        "\n",
        "5.2-3: Let $X$ be the sum after throwing $n$ dice. Let $$X_{ik}=\\begin{cases} 1 & i\\text{ is got from }k\\text{th dice} \\\\ 0 & \\text{otherwise}\\end{cases}.$$ Then, $$X=\\sum_{k=1}^n (X_{1k}+2X_{2k}+3X_{3k}+4X_{4k}+5X_{5k}+6X_{6k}).$$ Note that $P(X_{ik}=1)=1/6$. Thus, $$E(X)=\\sum_{k=1}^n (1/6+2/6+3/6+4/6+5/6+6/6)=\\frac{7n}2.$$\n",
        "\n",
        "5.2-4: Let $X$ be the number of people who got their hat back. Let $$X_i=\\begin{cases} 1 & \\text{if }i\\text{th customer got back} \\\\ 0 & \\text{otherwise}\\end{cases}.$$ Note that $P(X_i=1)=1/n$ and $X=X_1+X_2+\\cdots+X_n$. So, $$E(X)=P(X_1)+\\cdots+P(X_n)=n\\cdot \\frac 1n=1.$$\n",
        "\n",
        "5.2-5: easy enough."
      ],
      "metadata": {
        "id": "MxXliJgiS7P-"
      }
    },
    {
      "cell_type": "markdown",
      "source": [
        "# **Randomly Permuting Lists**\n",
        "\n",
        "Here's the first algorithm:\n",
        "```\n",
        "PermuteBySorting(A):\n",
        "\n",
        "n = length(A)\n",
        "for i=1 to i=n:\n",
        "    P[i] = random(1, n^3)\n",
        "sort A, using P as sort keys\n",
        "return A\n",
        "```\n",
        "\n",
        "We can show that every permutation that is outputted has the same probability ($1/n!$; assuming $P[i]$ are distinct), so it does give us a random permutation.\n",
        "\n",
        "And here's the second:"
      ],
      "metadata": {
        "id": "IWGLStmUq_jz"
      }
    },
    {
      "cell_type": "code",
      "source": [
        "import random\n",
        "\n",
        "def randomize(A):\n",
        "\n",
        "    for i in range(0, len(A)):\n",
        "        x = random.randint(i, len(A)-1)\n",
        "        a = A[x]\n",
        "        b = A[i]\n",
        "        A[i] = a\n",
        "        A[x] = b\n",
        "\n",
        "    return A\n",
        "\n",
        "randomize([1,2,3,4,5,6]) # returns a random permutation"
      ],
      "metadata": {
        "id": "DwHiEze-ti-g"
      },
      "execution_count": null,
      "outputs": []
    },
    {
      "cell_type": "markdown",
      "source": [
        "Using induction we can show that the permutations generated by this algorithm also have $1/n!$ probability, each. So these are random permutations as well. Note that this one is better than the first because its takes $O(n)$ time."
      ],
      "metadata": {
        "id": "bEV3-B-7uZSf"
      }
    },
    {
      "cell_type": "markdown",
      "source": [
        "# **Exercises 3**\n",
        "\n",
        "5.3-5: We want to make a list of length $n$ by taking elements from $\\{1,2,...,n^3\\}$. Number of all such lists is $(n^3)^n=n^{3n}$. Number of such lists with all distinct elements is $n^3(n^3-1)\\cdots (n^3-n+1)$. So the probability is $$\\frac{n^3(n^3-1)\\cdots (n^3-n+1)}{n^{3n}}>\\frac{(n^3-n+1)^{n-1}}{n^{3n-3}}=\\left (1-\\frac{n-1}{n^3} \\right)^{n-1}$$ $$ \\geq 1-\\frac{n-1}{n^3}(n-1)>1-\\frac 1n,$$ where we used Bernoulli's inequality."
      ],
      "metadata": {
        "id": "qzLyyLX-u9KT"
      }
    }
  ]
}